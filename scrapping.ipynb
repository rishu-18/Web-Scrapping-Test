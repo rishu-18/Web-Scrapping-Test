{
 "cells": [
  {
   "cell_type": "code",
   "execution_count": 4,
   "metadata": {
    "collapsed": true
   },
   "outputs": [],
   "source": [
    "import urllib2 as urllib\n",
    "import bs4 as bs\n",
    "import ssl"
   ]
  },
  {
   "cell_type": "code",
   "execution_count": 5,
   "metadata": {
    "collapsed": false
   },
   "outputs": [],
   "source": [
    "ctx = ssl.create_default_context()\n",
    "ctx.check_hostname = False\n",
    "ctx.verify_mode = ssl.CERT_NONE"
   ]
  },
  {
   "cell_type": "code",
   "execution_count": 6,
   "metadata": {
    "collapsed": true
   },
   "outputs": [],
   "source": [
    "sauce = urllib.urlopen('https://drupal.org/security',context = ctx).read()"
   ]
  },
  {
   "cell_type": "code",
   "execution_count": 7,
   "metadata": {
    "collapsed": false
   },
   "outputs": [],
   "source": [
    "soup = bs.BeautifulSoup(sauce,'lxml')\n",
    "#print(soup)"
   ]
  },
  {
   "cell_type": "code",
   "execution_count": 8,
   "metadata": {
    "collapsed": false
   },
   "outputs": [
    {
     "name": "stdout",
     "output_type": "stream",
     "text": [
      "(<title>Security advisories | Drupal.org</title>, u'Security advisories | Drupal.org')\n"
     ]
    }
   ],
   "source": [
    "#priting the title\n",
    "print(soup.title , soup.title.string)"
   ]
  },
  {
   "cell_type": "code",
   "execution_count": 9,
   "metadata": {
    "collapsed": false
   },
   "outputs": [
    {
     "name": "stdout",
     "output_type": "stream",
     "text": [
      "[<div class=\"content\">\\n<div class=\"menu-block\"><ul class=\"menu button\"><li class=\"first leaf\"><a href=\"/home\" title=\"Drupal.org home page\">Drupal.org home</a></li>\\n<li class=\"expanded\"><a href=\"/about\" title=\"\">Why Drupal?</a><div class=\"menu-block\"><ul class=\"menu button\"><li class=\"first leaf\"><a href=\"/developers\" title=\"\">For developers</a></li>\\n<li class=\"leaf\"><a href=\"/marketers\" title=\"Why marketers should choose Drupal for their ambitious digital experiences\">For marketers</a></li>\\n<li class=\"leaf\"><a href=\"/agencies\" title=\"Learn why agencies are betting their future on Drupal\">For agencies</a></li>\\n<li class=\"leaf\"><a href=\"/case-studies\" title=\"View case studies to see how your peers have built success on Drupal\">Case studies</a></li>\\n<li class=\"leaf\"><a href=\"/8\" title=\"Haven't looked at Drupal in a while? Learn about the dramatic changes in Drupal 8\">What's new in D8?</a></li>\\n<li class=\"last leaf\"><a href=\"/about\" title=\"Learn about Drupal\">About Drupal</a></li>\\n</ul></div><a class=\"close-btn\" href=\"#top\">Return to Content</a></li>\\n<li class=\"expanded\"><a href=\"/download\" title=\"Build your solution on Drupal\">Build</a><div class=\"menu-block\"><ul class=\"menu button\"><li class=\"first leaf\"><a href=\"/download\" title=\"Download and Extend Drupal\">Download &amp; Extend</a></li>\\n<li class=\"leaf\"><a href=\"/project/modules\" title=\"Find modules to extend Drupal to meet any need\">Modules</a></li>\\n<li class=\"leaf\"><a href=\"/project/themes\" title=\"Browse themes as a starting point for making your Drupal site your own\">Themes</a></li>\\n<li class=\"leaf\"><a href=\"/project/distributions\" title=\"Use a distribution to start with a version of Drupal customized to purpose\">Distributions</a></li>\\n<li class=\"last leaf\"><a href=\"/project/issues\" title=\"Dive into the issues queues and contribute back to Drupal\">Issue queues</a></li>\\n</ul></div><a class=\"close-btn\" href=\"#top\">Return to Content</a></li>\\n<li class=\"expanded\"><a href=\"/industries\" title=\"Examples of solutions built on Drupal\">Solutions</a><div class=\"menu-block\"><ul class=\"menu button\"><li class=\"first leaf\"><a href=\"/industries\" title=\"Learn why Drupal is the best solution for your industry\">By industry</a></li>\\n<li class=\"last leaf\"><a href=\"/case-studies\" title=\"View Drupal success stories\">Case studies</a></li>\\n</ul></div><a class=\"close-btn\" href=\"#top\">Return to Content</a></li>\\n<li class=\"expanded\"><a href=\"/drupal-services\" title=\"Buy Drupal Products and Services\">Services</a><div class=\"menu-block\"><ul class=\"menu button\"><li class=\"first leaf\"><a href=\"/drupal-services\" title=\"View the Drupal service provider marketplace\">Marketplace</a></li>\\n<li class=\"leaf\"><a href=\"/hosting\" title=\"Find trusted Drupal hosting providers\">Hosting</a></li>\\n<li class=\"last leaf\"><a href=\"/training\" title=\"Find expert Drupal training\">Training</a></li>\\n</ul></div><a class=\"close-btn\" href=\"#top\">Return to Content</a></li>\\n<li class=\"expanded\"><a href=\"/community\" title=\"Drupal Community\">Community</a><div class=\"menu-block\"><ul class=\"menu button\"><li class=\"first leaf\"><a href=\"/community\" title=\"View the community portal and find all the ways you can contribute to Drupal\">Portal</a></li>\\n<li class=\"leaf\"><a href=\"/getting-involved\" title=\"Read the getting involved guide to learn where you can make the most impact\">Getting involved</a></li>\\n<li class=\"leaf\"><a href=\"/organizations\" title=\"Learn about the organizations that are part of the Drupal ecosystem\">Organizations</a></li>\\n<li class=\"last leaf\"><a href=\"/forum\" title=\"Find support or chat with the community on the forum\">Forum</a></li>\\n</ul></div><a class=\"close-btn\" href=\"#top\">Return to Content</a></li>\\n<li class=\"expanded active-trail\"><a class=\"active-trail\" href=\"/documentation\" title=\"Resources to help you on your Drupal journey\">Resources</a><div class=\"menu-block\"><ul class=\"menu button\"><li class=\"first leaf\"><a href=\"/docs/user_guide/en/index.html\" title=\"The Drupal 8 user guide will get you up to speed in no time\">User guide</a></li>\\n<li class=\"leaf\"><a href=\"/documentation\" title=\"Drupal Documentation\">Documentation</a></li>\\n<li class=\"leaf\"><a href=\"/support\" title=\"Support for using Drupal\">Support</a></li>\\n<li class=\"leaf active-trail\"><a class=\"active-trail active\" href=\"/security\" title=\"Find information about security releases for Drupal\">Security</a></li>\\n<li class=\"leaf\"><a href=\"https://jobs.drupal.org/\" title=\"Drupal Jobs\">Jobs</a></li>\\n<li class=\"leaf\"><a href=\"https://events.drupal.org\" title=\"Learn about official Drupal Association events\">Events</a></li>\\n<li class=\"leaf\"><a href=\"/news\" title=\"News about the Drupal ecosystem\">Project News</a></li>\\n<li class=\"last leaf\"><a href=\"/association/supporters/press\" title=\"News and press releases from Drupal Association supporting partners\">Partner Press</a></li>\\n</ul></div><a class=\"close-btn\" href=\"#top\">Return to Content</a></li>\\n<li class=\"expanded\"><a href=\"/association\" title=\"About the Drupal Association - the non-profit that supports the Drupal project\">Association</a><div class=\"menu-block\"><ul class=\"menu button\"><li class=\"first leaf\"><a href=\"/association\" title=\"Learn about the Drupal Association - the nonprofit that supports the Drupal project\">Drupal Association</a></li>\\n<li class=\"leaf\"><a href=\"/association/supporters\" title=\"Learn more about the organizations that support the Drupal Association and our mission\">Supporters</a></li>\\n<li class=\"leaf\"><a href=\"/promotedrupal\" title=\"\">Promote Drupal</a></li>\\n<li class=\"last leaf\"><a href=\"/association/support\" title=\"We depend on you to move the Drupal project forward\">Join us</a></li>\\n</ul></div><a class=\"close-btn\" href=\"#top\">Return to Content</a></li>\\n<li class=\"last leaf\"><a href=\"/try-drupal\" title=\"Try Drupal on one of our platform providers\">Try Drupal</a></li>\\n</ul></div><a class=\"close-btn\" href=\"#top\">Return to Content</a> </div>, <div class=\"content\">\\n<div class=\"menu-block\"><ul class=\"menu\"><li class=\"button default\"><a href=\"#block-system-user-menu\"><img alt=\"Log in, view profile, and more\" src=\"https://www.drupal.org/sites/all/themes/bluecheese/images/icon-w-user.svg\"/></a><ul><li class=\"first leaf\"><a href=\"/user/login?destination=security\" title=\"\">Log in</a></li>\\n<li class=\"last leaf\"><a href=\"/user/register?destination=security\" title=\"\">Create account</a></li>\\n</ul></li></ul></div> </div>, <div class=\"content\">\\n<form accept-charset=\"UTF-8\" action=\"/security\" id=\"search-block-form\" method=\"post\"><div><div class=\"container-inline\">\\n<h2 class=\"element-invisible\">Search form</h2>\\n<div class=\"form-item form-type-textfield form-item-search-block-form\">\\n<label class=\"element-invisible\" for=\"edit-search-block-form--2\">Search </label>\\n<input class=\"form-text\" id=\"edit-search-block-form--2\" maxlength=\"128\" name=\"search_block_form\" placeholder=\"Search\\u2026\" size=\"15\" type=\"text\" value=\"\"/>\\n</div>\\n<div class=\"form-actions form-wrapper\" id=\"edit-actions\"><input alt=\"Search\" class=\"form-submit\" id=\"edit-submit\" name=\"submit\" src=\"/sites/all/themes/bluecheese/images/icon-w-search.svg\" type=\"image\" value=\"Search\"/></div><input name=\"form_build_id\" type=\"hidden\" value=\"form-CRXNxRGqzBjxFkOsEl-qhtYkxcZqEDIVV01gFwMmpxM\"/>\\n<input name=\"form_id\" type=\"hidden\" value=\"search_block_form\"/>\\n</div>\\n</div></form> </div>, <div class=\"content\">\\n<div class=\"view view-drupalorg-security-announcements view-id-drupalorg_security_announcements view-display-id-page_1 view-dom-id-2a2fa24b857fc5199edd411a3bec6ced\">\\n<div class=\"view-header\">\\n<p>These posts by the Drupal security team are also sent to the security announcements e-mail list.</p> </div>\\n<div class=\"view-content\">\\n<div class=\"views-row views-row-1 views-row-odd views-row-first\">\\n<div class=\"node node-sa node-teaser node-content-2966049 clearfix\" id=\"node-2966049\">\\n<h2><a href=\"/sa-core-2018-004\">Drupal core - Highly critical - Remote Code Execution - SA-CORE-2018-004</a></h2>\\n<div class=\"content\">\\n<div class=\"field field-name-drupalorg-sa-date field-type-text field-label-inline clearfix\"><div class=\"field-label\">Date:\\xa0</div><div class=\"field-items\"><div class=\"field-item even\">2018-April-25</div></div></div><div class=\"field field-name-field-sa-criticality field-type-text field-label-inline clearfix\"><div class=\"field-label\">Security risk:\\xa0</div><div class=\"field-items\"><div class=\"field-item even\"><a class=\"highly-critical\" href=\"/security-team/risk-levels\"><strong>Highly critical</strong> 20\\u221525 AC:Basic/A:User/CI:All/II:All/E:Exploit/TD:Default</a></div></div></div><div class=\"field field-name-field-sa-description field-type-text-long field-label-hidden\"><div class=\"field-items\"><div class=\"field-item even\"><p>CVE: CVE-2018-7602</p>\\n<p>A remote code execution vulnerability exists within multiple subsystems of Drupal 7.x and 8.x. This potentially allows attackers to exploit multiple attack vectors on a Drupal site, which could result in the site being compromised. This vulnerability is related to <a href=\"/sa-core-2018-002\">Drupal core - Highly critical - Remote Code Execution - SA-CORE-2018-002</a>. Both SA-CORE-2018-002 and this vulnerability are being exploited in the wild.</p>\\n<p><em>Updated \\u2014 this vulnerability is being exploited in the wild.</em></p>\\n</div></div></div> </div>\\n<div class=\"node-footer\"><ul class=\"links inline\"><li class=\"node-readmore first last\"><a href=\"/sa-core-2018-004\" rel=\"tag\" title=\"Drupal core - Highly critical - Remote Code Execution - SA-CORE-2018-004\">Read more<span class=\"element-invisible\"> about Drupal core - Highly critical - Remote Code Execution - SA-CORE-2018-004</span></a></li>\\n</ul></div>\\n</div>\\n</div>\\n<div class=\"views-row views-row-2 views-row-even\">\\n<div class=\"node node-sa node-promoted node-teaser node-content-2962129 clearfix\" id=\"node-2962129\">\\n<h2><a href=\"/sa-core-2018-003\">Drupal core - Moderately critical - Cross Site Scripting - SA-CORE-2018-003</a></h2>\\n<div class=\"content\">\\n<div class=\"field field-name-drupalorg-sa-date field-type-text field-label-inline clearfix\"><div class=\"field-label\">Date:\\xa0</div><div class=\"field-items\"><div class=\"field-item even\">2018-April-18</div></div></div><div class=\"field field-name-field-sa-criticality field-type-text field-label-inline clearfix\"><div class=\"field-label\">Security risk:\\xa0</div><div class=\"field-items\"><div class=\"field-item even\"><a class=\"moderately-critical\" href=\"/security-team/risk-levels\"><strong>Moderately critical</strong> 12\\u221525 AC:Complex/A:User/CI:Some/II:Some/E:Theoretical/TD:Default</a></div></div></div><div class=\"field field-name-field-sa-description field-type-text-long field-label-hidden\"><div class=\"field-items\"><div class=\"field-item even\"><p>\\nCKEditor, a third-party JavaScript library included in Drupal core, has <a href=\"https://ckeditor.com/blog/CKEditor-4.9.2-with-a-security-patch-released/\" rel=\"nofollow\">fixed a cross-site scripting (XSS) vulnerability</a>.  The vulnerability stemmed from the fact that it was possible to execute XSS inside CKEditor when using the <code class=\"language-php\">image2</code> plugin (which Drupal 8 core also uses).\\n</p>\\n<p>\\nWe would like to thank the CKEditor team for patching the vulnerability and coordinating the fix and release process, and matching the Drupal core security window.\\n</p></div></div></div> </div>\\n<div class=\"node-footer\"><ul class=\"links inline\"><li class=\"node-readmore first last\"><a href=\"/sa-core-2018-003\" rel=\"tag\" title=\"Drupal core - Moderately critical - Cross Site Scripting - SA-CORE-2018-003\">Read more<span class=\"element-invisible\"> about Drupal core - Moderately critical - Cross Site Scripting - SA-CORE-2018-003</span></a></li>\\n</ul></div>\\n</div>\\n</div>\\n<div class=\"views-row views-row-3 views-row-odd\">\\n<div class=\"node node-sa node-promoted node-teaser node-content-2956770 clearfix\" id=\"node-2956770\">\\n<h2><a href=\"/sa-core-2018-002\">Drupal core - Highly critical - Remote Code Execution  - SA-CORE-2018-002</a></h2>\\n<div class=\"content\">\\n<div class=\"field field-name-drupalorg-sa-date field-type-text field-label-inline clearfix\"><div class=\"field-label\">Date:\\xa0</div><div class=\"field-items\"><div class=\"field-item even\">2018-March-28</div></div></div><div class=\"field field-name-field-sa-criticality field-type-text field-label-inline clearfix\"><div class=\"field-label\">Security risk:\\xa0</div><div class=\"field-items\"><div class=\"field-item even\"><a class=\"highly-critical\" href=\"/security-team/risk-levels\"><strong>Highly critical</strong> 24\\u221525 AC:None/A:None/CI:All/II:All/E:Exploit/TD:Default</a></div></div></div><div class=\"field field-name-field-sa-description field-type-text-long field-label-hidden\"><div class=\"field-items\"><div class=\"field-item even\"><p> CVE: CVE-2018-7600</p>\\n<p>\\nA remote code execution vulnerability exists within multiple subsystems of Drupal 7.x and 8.x.  This potentially allows attackers to exploit multiple attack vectors on a Drupal site, which could result in the site being completely compromised.\\n</p>\\n<p>\\nThe security team has written an <a href=\"https://groups.drupal.org/security/faq-2018-002\" rel=\"nofollow\"> FAQ</a> about this issue.\\n</p></div></div></div> </div>\\n<div class=\"node-footer\"><ul class=\"links inline\"><li class=\"node-readmore first last\"><a href=\"/sa-core-2018-002\" rel=\"tag\" title=\"Drupal core - Highly critical - Remote Code Execution  - SA-CORE-2018-002\">Read more<span class=\"element-invisible\"> about Drupal core - Highly critical - Remote Code Execution  - SA-CORE-2018-002</span></a></li>\\n</ul></div>\\n</div>\\n</div>\\n<div class=\"views-row views-row-4 views-row-even\">\\n<div class=\"node node-sa node-promoted node-teaser node-content-2946543 clearfix\" id=\"node-2946543\">\\n<h2><a href=\"/sa-core-2018-001\">Drupal core - Critical - Multiple Vulnerabilities  - SA-CORE-2018-001</a></h2>\\n<div class=\"content\">\\n<div class=\"field field-name-drupalorg-sa-date field-type-text field-label-inline clearfix\"><div class=\"field-label\">Date:\\xa0</div><div class=\"field-items\"><div class=\"field-item even\">2018-February-21</div></div></div><div class=\"field field-name-field-sa-criticality field-type-text field-label-inline clearfix\"><div class=\"field-label\">Security risk:\\xa0</div><div class=\"field-items\"><div class=\"field-item even\"><a class=\"critical\" href=\"/security-team/risk-levels\"><strong>Critical</strong> 16\\u221525 AC:Basic/A:User/CI:Some/II:Some/E:Exploit/TD:Default</a></div></div></div><div class=\"field field-name-field-sa-description field-type-text-long field-label-hidden\"><div class=\"field-items\"><div class=\"field-item even\"><p>This security advisory fixes multiple vulnerabilities in both Drupal 7 and Drupal 8. See below for a list.</p>\\n<h4> Comment reply form allows access to restricted content - Critical -  Drupal 8 - CVE-2017-6926</h4>\\n<p>Users with permission to post comments are able to view content and comments they do not have access to, and are also able to add comments to this content.</p>\\n<p>This vulnerability is mitigated by the fact that the comment system must be enabled and the attacker must have permission to post comments.</p></div></div></div> </div>\\n<div class=\"node-footer\"><ul class=\"links inline\"><li class=\"node-readmore first last\"><a href=\"/sa-core-2018-001\" rel=\"tag\" title=\"Drupal core - Critical - Multiple Vulnerabilities  - SA-CORE-2018-001\">Read more<span class=\"element-invisible\"> about Drupal core - Critical - Multiple Vulnerabilities  - SA-CORE-2018-001</span></a></li>\\n</ul></div>\\n</div>\\n</div>\\n<div class=\"views-row views-row-5 views-row-odd\">\\n<div class=\"node node-forum node-promoted node-teaser node-content-2902615 clearfix\" id=\"node-2902615\">\\n<h2><a href=\"/forum/newsletters/security-advisories-for-drupal-core/2017-08-16/drupal-core-multiple\">Drupal Core - Multiple Vulnerabilities - SA-CORE-2017-004</a></h2>\\n<div class=\"submitted\">\\n      Posted by <a class=\"username\" data-uid=\"406161\" href=\"/u/drupal-security-team\" title=\"View user profile.\">Drupal Security Team</a> on <time datetime=\"1502901517\" pubdate=\"\">16 Aug 2017 at 16:38 UTC</time> </div>\\n<div class=\"content\">\\n<div class=\"field field-name-body field-type-text-with-summary field-label-hidden\"><div class=\"field-items\"><div class=\"field-item even\"><p>Drupal 8.3.7 is a  maintenance release which contain fixes for security vulnerabilities.</p></div></div></div> </div>\\n<div class=\"node-footer\"><ul class=\"links inline\"><li class=\"node-readmore first last\"><a href=\"/forum/newsletters/security-advisories-for-drupal-core/2017-08-16/drupal-core-multiple\" rel=\"tag\" title=\"Drupal Core - Multiple Vulnerabilities - SA-CORE-2017-004\">Read more<span class=\"element-invisible\"> about Drupal Core - Multiple Vulnerabilities - SA-CORE-2017-004</span></a></li>\\n</ul></div>\\n</div>\\n</div>\\n<div class=\"views-row views-row-6 views-row-even\">\\n<div class=\"node node-forum node-promoted node-teaser node-content-2888182 clearfix\" id=\"node-2888182\">\\n<h2><a href=\"/forum/newsletters/security-advisories-for-drupal-core/2017-06-21/drupal-core-multiple\">Drupal Core - Multiple Vulnerabilities -  SA-CORE-2017-003</a></h2>\\n<div class=\"submitted\">\\n      Posted by <a class=\"username\" data-uid=\"406161\" href=\"/u/drupal-security-team\" title=\"View user profile.\">Drupal Security Team</a> on <time datetime=\"1498067094\" pubdate=\"\">21 Jun 2017 at 17:44 UTC</time> </div>\\n<div class=\"content\">\\n<div class=\"field field-name-body field-type-text-with-summary field-label-hidden\"><div class=\"field-items\"><div class=\"field-item even\"><p>Drupal 8.3.4 and Drupal 7.56 are maintenance releases which contain fixes for security vulnerabilities.</p></div></div></div> </div>\\n<div class=\"node-footer\"><ul class=\"links inline\"><li class=\"node-readmore first last\"><a href=\"/forum/newsletters/security-advisories-for-drupal-core/2017-06-21/drupal-core-multiple\" rel=\"tag\" title=\"Drupal Core - Multiple Vulnerabilities -  SA-CORE-2017-003\">Read more<span class=\"element-invisible\"> about Drupal Core - Multiple Vulnerabilities -  SA-CORE-2017-003</span></a></li>\\n</ul><span class=\"separator\">\\u22c5</span> <span class=\"terms\">Categories: <a href=\"/taxonomy/term/120\">Drupal 7.x</a>, <a href=\"/taxonomy/term/20236\">Drupal 8.x</a></span></div>\\n</div>\\n</div>\\n<div class=\"views-row views-row-7 views-row-odd\">\\n<div class=\"node node-forum node-promoted node-teaser node-content-2871172 clearfix\" id=\"node-2871172\">\\n<h2><a href=\"/forum/newsletters/security-advisories-for-drupal-core/2017-04-19/drupal-core-critical-access-bypass\">Drupal Core - Critical - Access Bypass - SA-CORE-2017-002</a></h2>\\n<div class=\"submitted\">\\n      Posted by <a class=\"username\" data-uid=\"406161\" href=\"/u/drupal-security-team\" title=\"View user profile.\">Drupal Security Team</a> on <time datetime=\"1492622031\" pubdate=\"\">19 Apr 2017 at 17:13 UTC</time> </div>\\n<div class=\"content\">\\n<div class=\"field field-name-body field-type-text-with-summary field-label-hidden\"><div class=\"field-items\"><div class=\"field-item even\"><ul><li>Advisory ID: DRUPAL-SA-CORE-2017-002</li>\\n<li>Project: <a href=\"https://www.drupal.org/project/drupal\">Drupal core</a> </li>\\n<li>Version: 8.x</li>\\n<li>Date: 2017-April-19</li>\\n<li> CVEID: CVE-2017-6919</li>\\n<li>Security risk: <a href=\"https://www.drupal.org/security-team/risk-levels\">17/25 (<span style=\"padding:1px;display:inline-block;background-color:#FF9B2B;color:black\"> Critical</span>) AC:Basic/A:User/CI:All/II:All/E:Theoretical/TD:Default</a></li>\\n<li>Vulnerability: Access bypass</li>\\n</ul></div></div></div> </div>\\n<div class=\"node-footer\"><ul class=\"links inline\"><li class=\"node-readmore first last\"><a href=\"/forum/newsletters/security-advisories-for-drupal-core/2017-04-19/drupal-core-critical-access-bypass\" rel=\"tag\" title=\"Drupal Core - Critical - Access Bypass - SA-CORE-2017-002\">Read more<span class=\"element-invisible\"> about Drupal Core - Critical - Access Bypass - SA-CORE-2017-002</span></a></li>\\n</ul></div>\\n</div>\\n</div>\\n<div class=\"views-row views-row-8 views-row-even\">\\n<div class=\"node node-forum node-promoted node-teaser node-content-2860934 clearfix\" id=\"node-2860934\">\\n<h2><a href=\"/forum/newsletters/security-advisories-for-drupal-core/2017-03-15/drupal-core-multiple\">Drupal Core - Multiple Vulnerabilities - SA-CORE-2017-001</a></h2>\\n<div class=\"submitted\">\\n      Posted by <a class=\"username\" data-uid=\"406161\" href=\"/u/drupal-security-team\" title=\"View user profile.\">Drupal Security Team</a> on <time datetime=\"1489605883\" pubdate=\"\">15 Mar 2017 at 19:24 UTC</time> </div>\\n<div class=\"content\">\\n<div class=\"field field-name-body field-type-text-with-summary field-label-hidden\"><div class=\"field-items\"><div class=\"field-item even\"><p>Drupal 8.2.7, a maintenance release which contains fixes for security vulnerabilities, is now available for download.</p></div></div></div> </div>\\n<div class=\"node-footer\"><ul class=\"links inline\"><li class=\"node-readmore first last\"><a href=\"/forum/newsletters/security-advisories-for-drupal-core/2017-03-15/drupal-core-multiple\" rel=\"tag\" title=\"Drupal Core - Multiple Vulnerabilities - SA-CORE-2017-001\">Read more<span class=\"element-invisible\"> about Drupal Core - Multiple Vulnerabilities - SA-CORE-2017-001</span></a></li>\\n</ul></div>\\n</div>\\n</div>\\n<div class=\"views-row views-row-9 views-row-odd\">\\n<div class=\"node node-forum node-teaser node-content-2828161 clearfix\" id=\"node-2828161\">\\n<h2><a href=\"/forum/newsletters/security-advisories-for-drupal-core/2016-11-16/drupal-core-moderately-critical\">Drupal Core - Moderately Critical - Multiple Vulnerabilities - SA-CORE-2016-005</a></h2>\\n<div class=\"submitted\">\\n      Posted by <a class=\"username\" data-uid=\"406161\" href=\"/u/drupal-security-team\" title=\"View user profile.\">Drupal Security Team</a> on <time datetime=\"1479317836\" pubdate=\"\">16 Nov 2016 at 17:37 UTC</time> </div>\\n<div class=\"content\">\\n<div class=\"field field-name-body field-type-text-with-summary field-label-hidden\"><div class=\"field-items\"><div class=\"field-item even\"><ul><li>Advisory ID: DRUPAL-SA-CORE-2016-005</li>\\n<li>Project: <a href=\"https://www.drupal.org/project/drupal\">Drupal core</a> </li>\\n<li>Version: 7.x, 8.x</li>\\n<li>Date: 2016-November-16</li>\\n<li>Security risk: <a href=\"https://www.drupal.org/security-team/risk-levels\">13/25 (<span style=\"padding:1px;display:inline-block;background-color:#F5D800;color:black\"> Moderately Critical</span>) AC:None/A:None/CI:Some/II:None/E:Theoretical/TD:Uncommon</a></li>\\n<li>Vulnerability: Multiple vulnerabilities</li>\\n</ul></div></div></div> </div>\\n<div class=\"node-footer\"><ul class=\"links inline\"><li class=\"node-readmore first last\"><a href=\"/forum/newsletters/security-advisories-for-drupal-core/2016-11-16/drupal-core-moderately-critical\" rel=\"tag\" title=\"Drupal Core - Moderately Critical - Multiple Vulnerabilities - SA-CORE-2016-005\">Read more<span class=\"element-invisible\"> about Drupal Core - Moderately Critical - Multiple Vulnerabilities - SA-CORE-2016-005</span></a></li>\\n</ul><span class=\"separator\">\\u22c5</span> <span class=\"terms\">Categories: <a href=\"/taxonomy/term/120\">Drupal 7.x</a>, <a href=\"/taxonomy/term/20236\">Drupal 8.x</a></span></div>\\n</div>\\n</div>\\n<div class=\"views-row views-row-10 views-row-even views-row-last\">\\n<div class=\"node node-forum node-teaser node-content-2804023 clearfix\" id=\"node-2804023\">\\n<h2><a href=\"/forum/newsletters/security-advisories-for-drupal-core/2016-09-21/drupal-core-critical-multiple\">Drupal Core - Critical - Multiple Vulnerabilities - SA-CORE-2016-004</a></h2>\\n<div class=\"submitted\">\\n      Posted by <a class=\"username\" data-uid=\"406161\" href=\"/u/drupal-security-team\" title=\"View user profile.\">Drupal Security Team</a> on <time datetime=\"1474475744\" pubdate=\"\">21 Sep 2016 at 16:35 UTC</time> </div>\\n<div class=\"content\">\\n<div class=\"field field-name-body field-type-text-with-summary field-label-hidden\"><div class=\"field-items\"><div class=\"field-item even\"><ul><li>Advisory ID: DRUPAL-SA-CORE-2016-004</li>\\n<li>Project: <a href=\"https://www.drupal.org/project/drupal\">Drupal core</a> </li>\\n<li>Version:li  8.x</li>\\n<li>Date: 2016-September-21</li>\\n<li>Security risk: <a href=\"https://www.drupal.org/security-team/risk-levels\">18/25 (<span style=\"padding:1px;display:inline-block;background-color:#FF9B2B;color:black\"> Critical</span>) AC:Basic/A:User/CI:Some/II:Some/E:Proof/TD:Default</a></li>\\n</ul></div></div></div> </div>\\n<div class=\"node-footer\"><ul class=\"links inline\"><li class=\"node-readmore first last\"><a href=\"/forum/newsletters/security-advisories-for-drupal-core/2016-09-21/drupal-core-critical-multiple\" rel=\"tag\" title=\"Drupal Core - Critical - Multiple Vulnerabilities - SA-CORE-2016-004\">Read more<span class=\"element-invisible\"> about Drupal Core - Critical - Multiple Vulnerabilities - SA-CORE-2016-004</span></a></li>\\n</ul><span class=\"separator\">\\u22c5</span> <span class=\"terms\">Categories: <a href=\"/taxonomy/term/20236\">Drupal 8.x</a></span></div>\\n</div>\\n</div>\\n</div>\\n<h2 class=\"element-invisible\">Pages</h2><div class=\"item-list\"><ul class=\"pager\"><li class=\"pager-current first\">1</li>\\n<li class=\"pager-item\"><a href=\"/security?page=1\" title=\"Go to page 2\">2</a></li>\\n<li class=\"pager-item\"><a href=\"/security?page=2\" title=\"Go to page 3\">3</a></li>\\n<li class=\"pager-item\"><a href=\"/security?page=3\" title=\"Go to page 4\">4</a></li>\\n<li class=\"pager-item\"><a href=\"/security?page=4\" title=\"Go to page 5\">5</a></li>\\n<li class=\"pager-item\"><a href=\"/security?page=5\" title=\"Go to page 6\">6</a></li>\\n<li class=\"pager-item\"><a href=\"/security?page=6\" title=\"Go to page 7\">7</a></li>\\n<li class=\"pager-item\"><a href=\"/security?page=7\" title=\"Go to page 8\">8</a></li>\\n<li class=\"pager-item\"><a href=\"/security?page=8\" title=\"Go to page 9\">9</a></li>\\n<li class=\"pager-next\"><a href=\"/security?page=1\" title=\"Go to next page\">next \\u203a</a></li>\\n<li class=\"pager-last last\"><a href=\"/security?page=8\" title=\"Go to last page\">last \\xbb</a></li>\\n</ul></div>\\n</div> </div>, <div class=\"content\">\\n<div class=\"field field-name-drupalorg-sa-date field-type-text field-label-inline clearfix\"><div class=\"field-label\">Date:\\xa0</div><div class=\"field-items\"><div class=\"field-item even\">2018-April-25</div></div></div><div class=\"field field-name-field-sa-criticality field-type-text field-label-inline clearfix\"><div class=\"field-label\">Security risk:\\xa0</div><div class=\"field-items\"><div class=\"field-item even\"><a class=\"highly-critical\" href=\"/security-team/risk-levels\"><strong>Highly critical</strong> 20\\u221525 AC:Basic/A:User/CI:All/II:All/E:Exploit/TD:Default</a></div></div></div><div class=\"field field-name-field-sa-description field-type-text-long field-label-hidden\"><div class=\"field-items\"><div class=\"field-item even\"><p>CVE: CVE-2018-7602</p>\\n<p>A remote code execution vulnerability exists within multiple subsystems of Drupal 7.x and 8.x. This potentially allows attackers to exploit multiple attack vectors on a Drupal site, which could result in the site being compromised. This vulnerability is related to <a href=\"/sa-core-2018-002\">Drupal core - Highly critical - Remote Code Execution - SA-CORE-2018-002</a>. Both SA-CORE-2018-002 and this vulnerability are being exploited in the wild.</p>\\n<p><em>Updated \\u2014 this vulnerability is being exploited in the wild.</em></p>\\n</div></div></div> </div>, <div class=\"content\">\\n<div class=\"field field-name-drupalorg-sa-date field-type-text field-label-inline clearfix\"><div class=\"field-label\">Date:\\xa0</div><div class=\"field-items\"><div class=\"field-item even\">2018-April-18</div></div></div><div class=\"field field-name-field-sa-criticality field-type-text field-label-inline clearfix\"><div class=\"field-label\">Security risk:\\xa0</div><div class=\"field-items\"><div class=\"field-item even\"><a class=\"moderately-critical\" href=\"/security-team/risk-levels\"><strong>Moderately critical</strong> 12\\u221525 AC:Complex/A:User/CI:Some/II:Some/E:Theoretical/TD:Default</a></div></div></div><div class=\"field field-name-field-sa-description field-type-text-long field-label-hidden\"><div class=\"field-items\"><div class=\"field-item even\"><p>\\nCKEditor, a third-party JavaScript library included in Drupal core, has <a href=\"https://ckeditor.com/blog/CKEditor-4.9.2-with-a-security-patch-released/\" rel=\"nofollow\">fixed a cross-site scripting (XSS) vulnerability</a>.  The vulnerability stemmed from the fact that it was possible to execute XSS inside CKEditor when using the <code class=\"language-php\">image2</code> plugin (which Drupal 8 core also uses).\\n</p>\\n<p>\\nWe would like to thank the CKEditor team for patching the vulnerability and coordinating the fix and release process, and matching the Drupal core security window.\\n</p></div></div></div> </div>, <div class=\"content\">\\n<div class=\"field field-name-drupalorg-sa-date field-type-text field-label-inline clearfix\"><div class=\"field-label\">Date:\\xa0</div><div class=\"field-items\"><div class=\"field-item even\">2018-March-28</div></div></div><div class=\"field field-name-field-sa-criticality field-type-text field-label-inline clearfix\"><div class=\"field-label\">Security risk:\\xa0</div><div class=\"field-items\"><div class=\"field-item even\"><a class=\"highly-critical\" href=\"/security-team/risk-levels\"><strong>Highly critical</strong> 24\\u221525 AC:None/A:None/CI:All/II:All/E:Exploit/TD:Default</a></div></div></div><div class=\"field field-name-field-sa-description field-type-text-long field-label-hidden\"><div class=\"field-items\"><div class=\"field-item even\"><p> CVE: CVE-2018-7600</p>\\n<p>\\nA remote code execution vulnerability exists within multiple subsystems of Drupal 7.x and 8.x.  This potentially allows attackers to exploit multiple attack vectors on a Drupal site, which could result in the site being completely compromised.\\n</p>\\n<p>\\nThe security team has written an <a href=\"https://groups.drupal.org/security/faq-2018-002\" rel=\"nofollow\"> FAQ</a> about this issue.\\n</p></div></div></div> </div>, <div class=\"content\">\\n<div class=\"field field-name-drupalorg-sa-date field-type-text field-label-inline clearfix\"><div class=\"field-label\">Date:\\xa0</div><div class=\"field-items\"><div class=\"field-item even\">2018-February-21</div></div></div><div class=\"field field-name-field-sa-criticality field-type-text field-label-inline clearfix\"><div class=\"field-label\">Security risk:\\xa0</div><div class=\"field-items\"><div class=\"field-item even\"><a class=\"critical\" href=\"/security-team/risk-levels\"><strong>Critical</strong> 16\\u221525 AC:Basic/A:User/CI:Some/II:Some/E:Exploit/TD:Default</a></div></div></div><div class=\"field field-name-field-sa-description field-type-text-long field-label-hidden\"><div class=\"field-items\"><div class=\"field-item even\"><p>This security advisory fixes multiple vulnerabilities in both Drupal 7 and Drupal 8. See below for a list.</p>\\n<h4> Comment reply form allows access to restricted content - Critical -  Drupal 8 - CVE-2017-6926</h4>\\n<p>Users with permission to post comments are able to view content and comments they do not have access to, and are also able to add comments to this content.</p>\\n<p>This vulnerability is mitigated by the fact that the comment system must be enabled and the attacker must have permission to post comments.</p></div></div></div> </div>, <div class=\"content\">\\n<div class=\"field field-name-body field-type-text-with-summary field-label-hidden\"><div class=\"field-items\"><div class=\"field-item even\"><p>Drupal 8.3.7 is a  maintenance release which contain fixes for security vulnerabilities.</p></div></div></div> </div>, <div class=\"content\">\\n<div class=\"field field-name-body field-type-text-with-summary field-label-hidden\"><div class=\"field-items\"><div class=\"field-item even\"><p>Drupal 8.3.4 and Drupal 7.56 are maintenance releases which contain fixes for security vulnerabilities.</p></div></div></div> </div>, <div class=\"content\">\\n<div class=\"field field-name-body field-type-text-with-summary field-label-hidden\"><div class=\"field-items\"><div class=\"field-item even\"><ul><li>Advisory ID: DRUPAL-SA-CORE-2017-002</li>\\n<li>Project: <a href=\"https://www.drupal.org/project/drupal\">Drupal core</a> </li>\\n<li>Version: 8.x</li>\\n<li>Date: 2017-April-19</li>\\n<li> CVEID: CVE-2017-6919</li>\\n<li>Security risk: <a href=\"https://www.drupal.org/security-team/risk-levels\">17/25 (<span style=\"padding:1px;display:inline-block;background-color:#FF9B2B;color:black\"> Critical</span>) AC:Basic/A:User/CI:All/II:All/E:Theoretical/TD:Default</a></li>\\n<li>Vulnerability: Access bypass</li>\\n</ul></div></div></div> </div>, <div class=\"content\">\\n<div class=\"field field-name-body field-type-text-with-summary field-label-hidden\"><div class=\"field-items\"><div class=\"field-item even\"><p>Drupal 8.2.7, a maintenance release which contains fixes for security vulnerabilities, is now available for download.</p></div></div></div> </div>, <div class=\"content\">\\n<div class=\"field field-name-body field-type-text-with-summary field-label-hidden\"><div class=\"field-items\"><div class=\"field-item even\"><ul><li>Advisory ID: DRUPAL-SA-CORE-2016-005</li>\\n<li>Project: <a href=\"https://www.drupal.org/project/drupal\">Drupal core</a> </li>\\n<li>Version: 7.x, 8.x</li>\\n<li>Date: 2016-November-16</li>\\n<li>Security risk: <a href=\"https://www.drupal.org/security-team/risk-levels\">13/25 (<span style=\"padding:1px;display:inline-block;background-color:#F5D800;color:black\"> Moderately Critical</span>) AC:None/A:None/CI:Some/II:None/E:Theoretical/TD:Uncommon</a></li>\\n<li>Vulnerability: Multiple vulnerabilities</li>\\n</ul></div></div></div> </div>, <div class=\"content\">\\n<div class=\"field field-name-body field-type-text-with-summary field-label-hidden\"><div class=\"field-items\"><div class=\"field-item even\"><ul><li>Advisory ID: DRUPAL-SA-CORE-2016-004</li>\\n<li>Project: <a href=\"https://www.drupal.org/project/drupal\">Drupal core</a> </li>\\n<li>Version:li  8.x</li>\\n<li>Date: 2016-September-21</li>\\n<li>Security risk: <a href=\"https://www.drupal.org/security-team/risk-levels\">18/25 (<span style=\"padding:1px;display:inline-block;background-color:#FF9B2B;color:black\"> Critical</span>) AC:Basic/A:User/CI:Some/II:Some/E:Proof/TD:Default</a></li>\\n</ul></div></div></div> </div>, <div class=\"content\">\\n<p>In addition to the <a href=\"/security\">news page and sub-tabs</a>, all security announcements are posted to an email list. To subscribe to email: log in, go to <a href=\"/user\">your user profile page</a> and subscribe to the security newsletter on the <em>Edit \\xbb My newsletters</em> tab.</p>\\n<p>You can also get rss feeds for <a href=\"http://drupal.org/security/rss.xml\">core</a>, <a href=\"http://drupal.org/security/contrib/rss.xml\">contrib</a>, or <a href=\"http://drupal.org/security/psa/rss.xml\">public service announcements</a> or follow <a href=\"https://twitter.com/#!/drupalsecurity\">@drupalsecurity</a> on Twitter.</p>\\n</div>, <div class=\"content\">\\n<p>In order to report a security issue, or to learn more about the security team, please see the <a href=\"/security-team\">Security team</a> handbook page.</p>\\n</div>, <div class=\"content\">\\n<p>If you are a Drupal developer, please read the handbook section on <a href=\"/writing-secure-code\">Writing secure code</a>.</p>\\n</div>, <div class=\"content\">\\n<div class=\"gam-prefix\"><p>There are many useful <a href=\"/books\">books about Drupal</a>. Here are two  that discuss security:</p></div><div class=\"gam-holder\" id=\"gam-holder-Security_books\"><script type=\"text/javascript\">GA_googleFillSlot(\"Security_books\");</script></div><div class=\"gam-suffix\"><a href=\"https://association.drupal.org/advertising\">Advertising</a> helps build a successful ecosystem around Drupal.</div> </div>, <div class=\"content\">\\n<p><a class=\"twitter-timeline\" data-widget-id=\"530440098051928064\" href=\"https://twitter.com/drupalsecurity\">Tweets by @drupalsecurity</a></p>\\n<script>\\n<!--//--><![CDATA[// ><!--\\n!function(d,s,id){var js,fjs=d.getElementsByTagName(s)[0],p=/^http:/.test(d.location)?'http':'https';if(!d.getElementById(id)){js=d.createElement(s);js.id=id;js.src=p+\"://platform.twitter.com/widgets.js\";fjs.parentNode.insertBefore(js,fjs);}}(document,\"script\",\"twitter-wjs\");\\n//--><!]]>\\n</script> </div>, <div class=\"content\">\\n<h4 class=\"element-invisible\">News items</h4><ul class=\"drupal-news\"><li class=\"0 first\"><a href=\"https://www.drupal.org/news\">News</a></li>\\n<li class=\"1\"><a href=\"https://www.drupal.org/planet\" title=\"News from Drupal community members\">Planet Drupal</a></li>\\n<li class=\"2\"><a href=\"https://www.drupal.org/social-media\" title=\"Drupal on social media\">Social media directory</a></li>\\n<li class=\"3\"><a href=\"https://www.drupal.org/security\" title=\"Advisories from the security team\">Security announcements</a></li>\\n<li class=\"4 last\"><a href=\"https://jobs.drupal.org/\" title=\"Drupal Jobs\">Jobs</a></li>\\n</ul><h4 class=\"element-invisible\">Our community</h4><ul class=\"community\"><li class=\"0 first\"><a href=\"https://drupal.org/community\">Community</a></li>\\n<li class=\"1\"><a href=\"https://drupal.org/getting-involved\" title=\"Learn how to contribute to the Drupal project\">Getting involved</a></li>\\n<li class=\"2\"><span><a href=\"https://drupal.org/drupal-services\" title=\"People and organizations offering Drupal services\">Services</a>, <a href=\"https://drupal.org/training\" title=\"People and organizations offering Drupal training\">Training</a> &amp; <a href=\"https://drupal.org/hosting\" title=\"Organizations offering Drupal hosting\">Hosting</a></span></li>\\n<li class=\"3\"><a href=\"https://groups.drupal.org/groups\" title=\"groups.drupal.org\">Groups &amp; Meetups</a></li>\\n<li class=\"4\"><a href=\"https://events.drupal.org\" title=\"Upcoming and past DrupalCons\">DrupalCon</a></li>\\n<li class=\"5 last\"><a href=\"https://drupal.org/dcoc\" title=\"Drupal code of conduct\">Code of conduct</a></li>\\n</ul><h4 class=\"element-invisible\">Documentation</h4><ul class=\"get-started\"><li class=\"0 first\"><a href=\"https://drupal.org/documentation\" title=\"Documentation for working with Drupal\">Documentation</a></li>\\n<li class=\"1\"><a href=\"https://www.drupal.org/docs/8\">Drupal 8 docs</a></li>\\n<li class=\"2\"><a href=\"https://www.drupal.org/docs/7\">Drupal 7 docs</a></li>\\n<li class=\"3\"><a href=\"https://www.drupal.org/documentation/develop\">Developer docs</a></li>\\n<li class=\"4 last\"><a href=\"https://api.drupal.org/\" title=\"Drupal API reference\">api.drupal.org</a></li>\\n</ul><h4 class=\"element-invisible\">Drupal code base</h4><ul class=\"download-extend\"><li class=\"0 first\"><a href=\"https://drupal.org/download\">Download &amp; Extend</a></li>\\n<li class=\"1\"><a href=\"https://drupal.org/project/drupal\" title=\"Download the latest version of the Drupal software\">Drupal core</a></li>\\n<li class=\"2\"><a href=\"https://drupal.org/project/project_module\" title=\"Download add-on features and functionality\">Modules</a></li>\\n<li class=\"3\"><a href=\"https://drupal.org/project/project_theme\" title=\"Download pre-designed styles for Drupal\">Themes</a></li>\\n<li class=\"4 last\"><a href=\"https://drupal.org/project/project_distribution\" title=\"Download a pre-packaged Drupal site\">Distributions</a></li>\\n</ul><h4 class=\"element-invisible\">Governance of community</h4><ul class=\"about\"><li class=\"0 first\"><a href=\"https://drupal.org/about\">About</a></li>\\n<li class=\"1\"><a href=\"https://drupal.org/about/accessibility\" title=\"Our committment to accessibility\">Web accessibility</a></li>\\n<li class=\"2\"><a href=\"https://drupal.org/association\" title=\"About the Drupal Association\">The Drupal Association</a></li>\\n<li class=\"3\"><a href=\"https://drupal.org/drupalorg\" title=\"About Drupal.org\">About Drupal.org</a></li>\\n<li class=\"4\"><a href=\"https://drupal.org/terms\" title=\"Drupal.org terms of service\">Terms of service</a></li>\\n<li class=\"5 last\"><a href=\"https://drupal.org/privacy\" title=\"Drupal.org privacy policy\">Privacy policy</a></li>\\n</ul> </div>, <div class=\"content\">\\n<p>Drupal is a <a href=\"http://drupal.com/trademark\" rel=\"nofollow\">registered trademark</a> of <a href=\"https://dri.es\" rel=\"nofollow\">Dries Buytaert</a>.</p> </div>]\n"
     ]
    }
   ],
   "source": [
    "print(soup.findAll(\"div\",{\"class\":\"content\"}))"
   ]
  },
  {
   "cell_type": "code",
   "execution_count": 10,
   "metadata": {
    "collapsed": false
   },
   "outputs": [
    {
     "name": "stdout",
     "output_type": "stream",
     "text": [
      "2018-April-25\n",
      "Highly critical 20∕25 AC:Basic/A:User/CI:All/II:All/E:Exploit/TD:Default\n",
      "CVE: CVE-2018-7602\n",
      "A remote code execution vulnerability exists within multiple subsystems of Drupal 7.x and 8.x. This potentially allows attackers to exploit multiple attack vectors on a Drupal site, which could result in the site being compromised. This vulnerability is related to Drupal core - Highly critical - Remote Code Execution - SA-CORE-2018-002. Both SA-CORE-2018-002 and this vulnerability are being exploited in the wild.\n",
      "Updated — this vulnerability is being exploited in the wild.\n",
      "\n",
      "2018-April-18\n",
      "Moderately critical 12∕25 AC:Complex/A:User/CI:Some/II:Some/E:Theoretical/TD:Default\n",
      "\n",
      "CKEditor, a third-party JavaScript library included in Drupal core, has fixed a cross-site scripting (XSS) vulnerability.  The vulnerability stemmed from the fact that it was possible to execute XSS inside CKEditor when using the image2 plugin (which Drupal 8 core also uses).\n",
      "\n",
      "\n",
      "We would like to thank the CKEditor team for patching the vulnerability and coordinating the fix and release process, and matching the Drupal core security window.\n",
      "\n",
      "2018-March-28\n",
      "Highly critical 24∕25 AC:None/A:None/CI:All/II:All/E:Exploit/TD:Default\n",
      " CVE: CVE-2018-7600\n",
      "\n",
      "A remote code execution vulnerability exists within multiple subsystems of Drupal 7.x and 8.x.  This potentially allows attackers to exploit multiple attack vectors on a Drupal site, which could result in the site being completely compromised.\n",
      "\n",
      "\n",
      "The security team has written an  FAQ about this issue.\n",
      "\n",
      "2018-February-21\n",
      "Critical 16∕25 AC:Basic/A:User/CI:Some/II:Some/E:Exploit/TD:Default\n",
      "This security advisory fixes multiple vulnerabilities in both Drupal 7 and Drupal 8. See below for a list.\n",
      " Comment reply form allows access to restricted content - Critical -  Drupal 8 - CVE-2017-6926\n",
      "Users with permission to post comments are able to view content and comments they do not have access to, and are also able to add comments to this content.\n",
      "This vulnerability is mitigated by the fact that the comment system must be enabled and the attacker must have permission to post comments.\n",
      "Drupal 8.3.7 is a  maintenance release which contain fixes for security vulnerabilities.\n",
      "Drupal 8.3.4 and Drupal 7.56 are maintenance releases which contain fixes for security vulnerabilities.\n",
      "Advisory ID: DRUPAL-SA-CORE-2017-002\n",
      "Project: Drupal core \n",
      "Version: 8.x\n",
      "Date: 2017-April-19\n",
      " CVEID: CVE-2017-6919\n",
      "Security risk: 17/25 ( Critical) AC:Basic/A:User/CI:All/II:All/E:Theoretical/TD:Default\n",
      "Vulnerability: Access bypass\n",
      "\n",
      "Drupal 8.2.7, a maintenance release which contains fixes for security vulnerabilities, is now available for download.\n",
      "Advisory ID: DRUPAL-SA-CORE-2016-005\n",
      "Project: Drupal core \n",
      "Version: 7.x, 8.x\n",
      "Date: 2016-November-16\n",
      "Security risk: 13/25 ( Moderately Critical) AC:None/A:None/CI:Some/II:None/E:Theoretical/TD:Uncommon\n",
      "Vulnerability: Multiple vulnerabilities\n",
      "\n",
      "Advisory ID: DRUPAL-SA-CORE-2016-004\n",
      "Project: Drupal core \n",
      "Version:li  8.x\n",
      "Date: 2016-September-21\n",
      "Security risk: 18/25 ( Critical) AC:Basic/A:User/CI:Some/II:Some/E:Proof/TD:Default\n",
      "\n",
      "2018-April-25\n",
      "Highly critical 20∕25 AC:Basic/A:User/CI:All/II:All/E:Exploit/TD:Default\n",
      "CVE: CVE-2018-7602\n",
      "A remote code execution vulnerability exists within multiple subsystems of Drupal 7.x and 8.x. This potentially allows attackers to exploit multiple attack vectors on a Drupal site, which could result in the site being compromised. This vulnerability is related to Drupal core - Highly critical - Remote Code Execution - SA-CORE-2018-002. Both SA-CORE-2018-002 and this vulnerability are being exploited in the wild.\n",
      "Updated — this vulnerability is being exploited in the wild.\n",
      "\n",
      "2018-April-18\n",
      "Moderately critical 12∕25 AC:Complex/A:User/CI:Some/II:Some/E:Theoretical/TD:Default\n",
      "\n",
      "CKEditor, a third-party JavaScript library included in Drupal core, has fixed a cross-site scripting (XSS) vulnerability.  The vulnerability stemmed from the fact that it was possible to execute XSS inside CKEditor when using the image2 plugin (which Drupal 8 core also uses).\n",
      "\n",
      "\n",
      "We would like to thank the CKEditor team for patching the vulnerability and coordinating the fix and release process, and matching the Drupal core security window.\n",
      "\n",
      "2018-March-28\n",
      "Highly critical 24∕25 AC:None/A:None/CI:All/II:All/E:Exploit/TD:Default\n",
      " CVE: CVE-2018-7600\n",
      "\n",
      "A remote code execution vulnerability exists within multiple subsystems of Drupal 7.x and 8.x.  This potentially allows attackers to exploit multiple attack vectors on a Drupal site, which could result in the site being completely compromised.\n",
      "\n",
      "\n",
      "The security team has written an  FAQ about this issue.\n",
      "\n",
      "2018-February-21\n",
      "Critical 16∕25 AC:Basic/A:User/CI:Some/II:Some/E:Exploit/TD:Default\n",
      "This security advisory fixes multiple vulnerabilities in both Drupal 7 and Drupal 8. See below for a list.\n",
      " Comment reply form allows access to restricted content - Critical -  Drupal 8 - CVE-2017-6926\n",
      "Users with permission to post comments are able to view content and comments they do not have access to, and are also able to add comments to this content.\n",
      "This vulnerability is mitigated by the fact that the comment system must be enabled and the attacker must have permission to post comments.\n",
      "Drupal 8.3.7 is a  maintenance release which contain fixes for security vulnerabilities.\n",
      "Drupal 8.3.4 and Drupal 7.56 are maintenance releases which contain fixes for security vulnerabilities.\n",
      "Advisory ID: DRUPAL-SA-CORE-2017-002\n",
      "Project: Drupal core \n",
      "Version: 8.x\n",
      "Date: 2017-April-19\n",
      " CVEID: CVE-2017-6919\n",
      "Security risk: 17/25 ( Critical) AC:Basic/A:User/CI:All/II:All/E:Theoretical/TD:Default\n",
      "Vulnerability: Access bypass\n",
      "\n",
      "Drupal 8.2.7, a maintenance release which contains fixes for security vulnerabilities, is now available for download.\n",
      "Advisory ID: DRUPAL-SA-CORE-2016-005\n",
      "Project: Drupal core \n",
      "Version: 7.x, 8.x\n",
      "Date: 2016-November-16\n",
      "Security risk: 13/25 ( Moderately Critical) AC:None/A:None/CI:Some/II:None/E:Theoretical/TD:Uncommon\n",
      "Vulnerability: Multiple vulnerabilities\n",
      "\n",
      "Advisory ID: DRUPAL-SA-CORE-2016-004\n",
      "Project: Drupal core \n",
      "Version:li  8.x\n",
      "Date: 2016-September-21\n",
      "Security risk: 18/25 ( Critical) AC:Basic/A:User/CI:Some/II:Some/E:Proof/TD:Default\n",
      "\n"
     ]
    }
   ],
   "source": [
    "for content in soup.findAll(\"div\",{\"class\":\"content\"}):\n",
    "    for fields in content.findAll(\"div\",{\"class\":\"field-item\"}):\n",
    "        print fields.text\n",
    "            "
   ]
  },
  {
   "cell_type": "code",
   "execution_count": 11,
   "metadata": {
    "collapsed": false
   },
   "outputs": [
    {
     "name": "stdout",
     "output_type": "stream",
     "text": [
      "Highly critical\n",
      "https://drupal.org/sa-core-2018-004\n",
      "2018 4 25\n"
     ]
    }
   ],
   "source": [
    "inner_content = soup.find(\"div\",{\"class\" : \"views-row-first\"})\n",
    "occured_date = inner_content.findAll(\"div\",{\"class\":\"field-item even\"})[0].text\n",
    "criticality = inner_content.strong.text\n",
    "print criticality\n",
    "link = inner_content.findAll(\"a\",href=True)[0]\n",
    "fullpath = \"https://drupal.org\" + link['href']\n",
    "print fullpath\n",
    "year,month,date =  occured_date.split('-')[0],occured_date.split('-')[1],occured_date.split('-')[2]\n",
    "m_dict = {\"January\" : 1 , \"Febuary\" : 2 , \"March\" : 3 , \"April\" : 4, \"May\"  : 5 , \"June\" : 6 , \"July\" : 7 ,\"August\" : 8, \"September\" : 9 , \"October\" : 10 , \"November\" : 11 , \"December\":12}\n",
    "print year,m_dict[month],date"
   ]
  },
  {
   "cell_type": "code",
   "execution_count": 12,
   "metadata": {
    "collapsed": false
   },
   "outputs": [
    {
     "name": "stdout",
     "output_type": "stream",
     "text": [
      "<type 'int'> <type 'unicode'> <type 'int'>\n",
      "2018-04-25 00:00:00\n"
     ]
    }
   ],
   "source": [
    "import datetime\n",
    "print type(int(year)),type(date),type(m_dict[month])\n",
    "security_date = datetime.datetime(year=int(year),month=m_dict[month],day=int(date))\n",
    "print security_date"
   ]
  },
  {
   "cell_type": "code",
   "execution_count": 18,
   "metadata": {
    "collapsed": false
   },
   "outputs": [
    {
     "name": "stdout",
     "output_type": "stream",
     "text": [
      "date of occurence: 2018-April-25\n",
      "Criticality: Highly critical\n",
      "URL: https://drupal.org/sa-core-2018-004\n"
     ]
    }
   ],
   "source": [
    "recent =  str(datetime.datetime.now() - security_date)\n",
    "day_diff =  int(recent.split(',')[0].split(' ')[0])\n",
    "message = \"\"\n",
    "if day_diff > 0 and day_diff < 50:\n",
    "    message += \"date of occurence: \" + occured_date \n",
    "    message += \"\\nCriticality: \" + criticality\n",
    "    message += \"\\nURL: \" +fullpath\n",
    "print message"
   ]
  },
  {
   "cell_type": "markdown",
   "metadata": {
    "collapsed": false
   },
   "source": [
    "##### to notify the user using email"
   ]
  },
  {
   "cell_type": "code",
   "execution_count": 19,
   "metadata": {
    "collapsed": false
   },
   "outputs": [
    {
     "name": "stdout",
     "output_type": "stream",
     "text": [
      "date of occurence: 2018-April-25\n",
      "Criticality: Highly critical\n",
      "URL: https://drupal.org/sa-core-2018-004\n"
     ]
    }
   ],
   "source": [
    "#message = \"this is test\"\n",
    "print message\n",
    "user = \"testuser\"\n",
    "pwd = \"testpass\"\n",
    "import smtplib\n",
    "server = smtplib.SMTP(\"smtp.gmail.com\",587)\n",
    "server.ehlo()\n",
    "server.starttls()\n",
    "server.login(user, pwd)\n",
    "server.sendmail(user, \"recipient\", message)\n",
    "server.close()"
   ]
  },
  {
   "cell_type": "code",
   "execution_count": null,
   "metadata": {
    "collapsed": true
   },
   "outputs": [],
   "source": []
  }
 ],
 "metadata": {
  "kernelspec": {
   "display_name": "Python 2",
   "language": "python",
   "name": "python2"
  },
  "language_info": {
   "codemirror_mode": {
    "name": "ipython",
    "version": 2
   },
   "file_extension": ".py",
   "mimetype": "text/x-python",
   "name": "python",
   "nbconvert_exporter": "python",
   "pygments_lexer": "ipython2",
   "version": "2.7.11"
  }
 },
 "nbformat": 4,
 "nbformat_minor": 0
}
